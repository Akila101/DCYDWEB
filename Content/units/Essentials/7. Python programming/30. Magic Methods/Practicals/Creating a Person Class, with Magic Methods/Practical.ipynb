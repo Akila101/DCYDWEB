{
  "cells": [
    {
      "cell_type": "markdown",
      "metadata": {
        "id": "MaRqVHY7GebG"
      },
      "source": [
        "# Create a `Person` Class"
      ]
    },
    {
      "cell_type": "markdown",
      "metadata": {
        "id": "doW964n-GebL"
      },
      "source": [
        "### 1. Create a class called `Person`, then define it's constructor (the `__init__` method)\n",
        "It must take in the following class attributes:\n",
        "- `name`\n",
        "- `date_of_birth`\n",
        "- `friends`\n",
        "\n",
        "Be careful, don't use a default argument for `friends`! This will cause problems whenever you initialise a new instance of the class. To know more about, take a look at this [link](https://stackoverflow.com/questions/19497879/using-a-empty-list-as-default-parameter-in-init-why-the-list-in-all-instanc)."
      ]
    },
    {
      "cell_type": "code",
      "execution_count": 18,
      "metadata": {
        "id": "hFZ7jIMiGebN"
      },
      "outputs": [],
      "source": [
        "# TODO - Create a class called `Person`, then define it's constructor (the `__init__` method)\n",
        "class Person:\n",
        "\n",
        "  def __init__(self, name, date_of_birth, friends=None):\n",
        "\n",
        "    self.name = name\n",
        "    self.date_of_birth = datetime.strptime(date_of_birth, \"%d/%m/%y\")\n",
        "\n",
        "    if friends is None:\n",
        "      self.friends = []\n",
        "\n",
        "    else:\n",
        "      self.friends = friends\n",
        "\n",
        "\n"
      ]
    },
    {
      "cell_type": "markdown",
      "metadata": {
        "id": "25yA1GiRGebP"
      },
      "source": [
        "### 2. Instantiate your class and test that it works before continuing. Do this for every section going forward"
      ]
    },
    {
      "cell_type": "code",
      "execution_count": 33,
      "metadata": {
        "id": "cZeQyxDsGebQ",
        "outputId": "5cb2213d-94dc-4b0f-dad7-fe5b0a2b9e59",
        "colab": {
          "base_uri": "https://localhost:8080/"
        }
      },
      "outputs": [
        {
          "output_type": "stream",
          "name": "stdout",
          "text": [
            "Name:  Captra\n",
            "D.O.B:  1996-03-06 00:00:00\n",
            "Friends:  []\n",
            "Updated firned list: ['Bob', 'Roger', 'Shane']\n"
          ]
        }
      ],
      "source": [
        "# TODO - instantiate your class\n",
        "guests = Person(name=\"Captra\", date_of_birth=\"06/03/1996\")\n",
        "print(\"Name: \", guests.name)\n",
        "print(\"D.O.B: \", guests.date_of_birth)\n",
        "print(\"Friends: \", guests.friends)\n",
        "\n",
        "guests.friends.extend([\"Bob\", \"Roger\", \"Shane\"])\n",
        "print(\"Updated firned list:\", guests.friends)"
      ]
    },
    {
      "cell_type": "markdown",
      "metadata": {
        "id": "WodhHib7GebS"
      },
      "source": [
        "### 3. Go back to the block with your class definition, then define the `__str__` magic method\n",
        "When called, this method should return a string representation of the person, outputting their name, date of birth and number of friends.\n",
        "\n",
        "Test it by printing the instance of your class in the below code block."
      ]
    },
    {
      "cell_type": "code",
      "execution_count": 34,
      "metadata": {
        "id": "D59E6sMVGebS"
      },
      "outputs": [],
      "source": [
        "# TODO - test your __str__ method with a print statement\n",
        "def __str__(self):\n",
        "  return f\"Name: {self.name}, Date of Birth: {self.date_of_birth}, Number of friends: {len(self.friend)}\""
      ]
    },
    {
      "cell_type": "markdown",
      "metadata": {
        "id": "AiZDn8_NGebS"
      },
      "source": [
        "### 4. Now define the `__gt__` magic method\n",
        "This method should determine what happens when you use the greater than sign (>) to compare the age of two people. The output should be a print statement saying which person is older.\n",
        "\n",
        "Hint: you will need to import and use the `datetime` module to compare the dates of birth of the two people.\n",
        "\n",
        "Test it out by creating a second instance of the class for a second person, and then comparing that to the first with a greater than sign, then outputting the result, as follows:\n",
        "```python\n",
        "result = person_1 > person_2\n",
        "result\n",
        "```"
      ]
    },
    {
      "cell_type": "code",
      "execution_count": 40,
      "metadata": {
        "id": "KDGmFBqqGebU",
        "outputId": "a22a6785-b34f-4108-ccc4-5dcd41bde039",
        "colab": {
          "base_uri": "https://localhost:8080/",
          "height": 211
        }
      },
      "outputs": [
        {
          "output_type": "error",
          "ename": "TypeError",
          "evalue": "'>' not supported between instances of 'Person' and 'Person'",
          "traceback": [
            "\u001b[0;31m---------------------------------------------------------------------------\u001b[0m",
            "\u001b[0;31mTypeError\u001b[0m                                 Traceback (most recent call last)",
            "\u001b[0;32m<ipython-input-40-b818d13c87ae>\u001b[0m in \u001b[0;36m<cell line: 33>\u001b[0;34m()\u001b[0m\n\u001b[1;32m     31\u001b[0m \u001b[0;34m\u001b[0m\u001b[0m\n\u001b[1;32m     32\u001b[0m \u001b[0;34m\u001b[0m\u001b[0m\n\u001b[0;32m---> 33\u001b[0;31m \u001b[0;32mif\u001b[0m \u001b[0mperson_1\u001b[0m \u001b[0;34m>\u001b[0m \u001b[0mperson_2\u001b[0m\u001b[0;34m:\u001b[0m\u001b[0;34m\u001b[0m\u001b[0;34m\u001b[0m\u001b[0m\n\u001b[0m\u001b[1;32m     34\u001b[0m   \u001b[0mprint\u001b[0m\u001b[0;34m(\u001b[0m\u001b[0;34mf\"{person_1.name} is older than {person_2.name}.\"\u001b[0m\u001b[0;34m)\u001b[0m\u001b[0;34m\u001b[0m\u001b[0;34m\u001b[0m\u001b[0m\n\u001b[1;32m     35\u001b[0m \u001b[0;32melse\u001b[0m\u001b[0;34m:\u001b[0m\u001b[0;34m\u001b[0m\u001b[0;34m\u001b[0m\u001b[0m\n",
            "\u001b[0;31mTypeError\u001b[0m: '>' not supported between instances of 'Person' and 'Person'"
          ]
        }
      ],
      "source": [
        "from  datetime import datetime\n",
        "\n",
        "class Person:\n",
        "\n",
        "  def __init__(self, name, date_of_birth, friends=None):\n",
        "\n",
        "    self.name = name\n",
        "    self.date_of_birth = datetime.strptime(date_of_birth, \"%d/%m/%Y\")\n",
        "\n",
        "    if friends is None:\n",
        "      self.friends = []\n",
        "\n",
        "    else:\n",
        "      self.friends = friends\n",
        "\n",
        "\n",
        "    #Defining __str__ method to return a string\n",
        "    def __str__(self):\n",
        "      return(f\"Name:  {self.name}, Date of Birth: {self.date_of_birth.strftime('%d/%m/%Y')}, Number of Firends: {len(self.friends)}\")\n",
        "\n",
        "\n",
        "  # TODO - test your __gt__ method\n",
        "    def __gt__(self, person2):\n",
        "      if not isinstance(person2, Person):\n",
        "        return NotImplemented\n",
        "\n",
        "      return self.date_of_birth < person2.date_of_birth\n",
        "\n",
        "person_1 = Person(name = \"Greoge\", date_of_birth = \"23/04/1996\")\n",
        "person_2 = Person(name = \"Shane\", date_of_birth = \"05/07/2004\")\n",
        "\n",
        "\n",
        "if person_1 > person_2:\n",
        "  print(f\"{person_1.name} is older than {person_2.name}.\")\n",
        "else:\n",
        "  print(f\"{person_2.name} is older than {person_1.name}.\")\n",
        "\n"
      ]
    },
    {
      "cell_type": "markdown",
      "metadata": {
        "id": "rNjg0qXaGebU"
      },
      "source": [
        "### 5. Create a method called `add_friend`\n",
        "This method should take in another instance of the `person` class and add it to this instance's friends attribute. Assume that every relationship goes both ways: this method should append each friend to the other's list, in just one call.\n",
        "\n",
        "Test your `add_friend` method in the below cell."
      ]
    },
    {
      "cell_type": "code",
      "execution_count": null,
      "metadata": {
        "id": "eZYsSujiGebU"
      },
      "outputs": [],
      "source": [
        "# TODO - Test your `add_friend` method\n"
      ]
    }
  ],
  "metadata": {
    "kernelspec": {
      "display_name": "base",
      "language": "python",
      "name": "python3"
    },
    "language_info": {
      "codemirror_mode": {
        "name": "ipython",
        "version": 3
      },
      "file_extension": ".py",
      "mimetype": "text/x-python",
      "name": "python",
      "nbconvert_exporter": "python",
      "pygments_lexer": "ipython3",
      "version": "3.9.13"
    },
    "colab": {
      "provenance": []
    }
  },
  "nbformat": 4,
  "nbformat_minor": 0
}